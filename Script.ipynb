{
 "cells": [
  {
   "cell_type": "markdown",
   "metadata": {},
   "source": [
    "1. Create a Seq object that accepts a DNA sequence (a string).\n",
    "2. Add a method to count kmers of size k, where k is specified as a argument.\n",
    "3. Add a method to create a pandas data frame containing all possible k and the associated\n",
    "number of observed and expected kmers (see above table).\n",
    "4. Add a method to produce a graph from the data frame of the proportion of each kmer\n",
    "observed.\n",
    "5. Add a method to calculate linguistic complexity.\n",
    "6. Write a script to thoroughly test each of your functions.\n",
    "7. Use the main function to read in your sequence data and output results.\n",
    "8. Create a github repository including a README (in markdown) to submit your work."
   ]
  }
 ],
 "metadata": {
  "kernelspec": {
   "display_name": "Python 3",
   "language": "python",
   "name": "python3"
  },
  "language_info": {
   "codemirror_mode": {
    "name": "ipython",
    "version": 3
   },
   "file_extension": ".py",
   "mimetype": "text/x-python",
   "name": "python",
   "nbconvert_exporter": "python",
   "pygments_lexer": "ipython3",
   "version": "3.6.3"
  }
 },
 "nbformat": 4,
 "nbformat_minor": 2
}
